{
  "nbformat": 4,
  "nbformat_minor": 0,
  "metadata": {
    "kernelspec": {
      "name": "python3",
      "display_name": "Python 3"
    },
    "language_info": {
      "codemirror_mode": {
        "name": "ipython",
        "version": 3
      },
      "file_extension": ".py",
      "mimetype": "text/x-python",
      "name": "python",
      "nbconvert_exporter": "python",
      "pygments_lexer": "ipython3",
      "version": "3.6.2"
    },
    "colab": {
      "name": "example.ipynb",
      "provenance": [],
      "collapsed_sections": []
    },
    "accelerator": "GPU"
  },
  "cells": [
    {
      "cell_type": "code",
      "metadata": {
        "id": "dB1-U21dyjrm",
        "colab_type": "code",
        "colab": {}
      },
      "source": [
        "import torch\n",
        "from torch import nn, optim\n",
        "import torch.nn.functional as F \n",
        "from torchvision import datasets, transforms\n",
        "import numpy as np \n",
        "from collections import OrderedDict\n",
        "import os.path\n",
        "import matplotlib.pyplot as plt \n",
        "\n",
        "torch.manual_seed(7)\n",
        "\n",
        "device = torch.device(\"cuda\" if torch.cuda.is_available() else \"cpu\")"
      ],
      "execution_count": 0,
      "outputs": []
    },
    {
      "cell_type": "code",
      "metadata": {
        "id": "Azn5zMHIyjrw",
        "colab_type": "code",
        "colab": {}
      },
      "source": [
        "class Layer(nn.Module):\n",
        "    def __init__(self):\n",
        "        super().__init__()\n",
        "        self.h1 = nn.Linear(784,256)\n",
        "\n",
        "    def forward(self, x):\n",
        "        return self.h1(x)"
      ],
      "execution_count": 0,
      "outputs": []
    },
    {
      "cell_type": "code",
      "metadata": {
        "id": "Z0Dk5rYJyjr5",
        "colab_type": "code",
        "colab": {}
      },
      "source": [
        "class Classifier(nn.Module):\n",
        "    def __init__(self):\n",
        "        super().__init__()\n",
        "        # self.model = nn.Sequential(OrderedDict([\n",
        "        #         ('in', nn.Linear(784, 256)),\n",
        "        #         ('r1', nn.ReLU()),\n",
        "        #         ('h2', nn.Linear(256, 128)),\n",
        "        #         ('r2', nn.ReLU()),\n",
        "        #         ('h3', nn.Linear(128, 64)),\n",
        "        #         ('r3', nn.ReLU()),\n",
        "        #         ('out', nn.Linear(64, 10)),\n",
        "        #     ]))\n",
        "        self.h1 = Layer()#nn.Linear(784, 256)\n",
        "        self.h2 = nn.Linear(256, 128)\n",
        "        self.h3 = nn.Linear(128, 64)\n",
        "        self.fl = nn.Linear(64, 10)\n",
        "        self.dropout = nn.Dropout(p=0.2)\n",
        "\n",
        "    def forward(self, x):\n",
        "        x = x.view(x.shape[0], -1)\n",
        "        #out = self.model(x)\n",
        "        x = self.dropout(F.relu(self.h1(x)))\n",
        "        x = self.dropout(F.relu(self.h2(x)))\n",
        "        x = self.dropout(F.relu(self.h3(x)))\n",
        "        logps = F.log_softmax(self.fl(x), dim=1)\n",
        "        return logps"
      ],
      "execution_count": 0,
      "outputs": []
    },
    {
      "cell_type": "code",
      "metadata": {
        "id": "6PZ0rVRjyjsA",
        "colab_type": "code",
        "colab": {}
      },
      "source": [
        "def save_model(model, epoch, optimizer, filename):\n",
        "    state_dict = model.state_dict()\n",
        "    opt_state_dict = optimizer.state_dict()\n",
        "    checkpoint = {\n",
        "        'epoch':epoch ,\n",
        "        'optimizer':opt_state_dict,\n",
        "        'state_dict':state_dict\n",
        "    }\n",
        "    torch.save(checkpoint, filename)\n",
        "    \n",
        "\n",
        "def load_model(path):\n",
        "    model = Classifier()\n",
        "    model = model.to(device)\n",
        "    optimizer = optim.Adam(model.parameters(), lr=0.003)\n",
        "    epoch = 0\n",
        "    if os.path.exists(path):\n",
        "        checkpoint = torch.load(path)\n",
        "        epoch = checkpoint['epoch']+1#start from the successive epoch of the saved checkpoint\n",
        "        model.load_state_dict(checkpoint['state_dict'])\n",
        "        #model = model.to(device)\n",
        "        optimizer.load_state_dict(checkpoint['optimizer'])\n",
        "    #optimizer = optimizer.to(device)\n",
        "    return model, optimizer, epoch"
      ],
      "execution_count": 0,
      "outputs": []
    },
    {
      "cell_type": "code",
      "metadata": {
        "id": "6oTgutPNyjsG",
        "colab_type": "code",
        "colab": {}
      },
      "source": [
        "def get_data(batch_size=64, train=True):\n",
        "    transform = transforms.Compose([transforms.ToTensor(), transforms.Normalize((0.5,),(0.5,))])\n",
        "    data = datasets.FashionMNIST('fashion_data/', download=True, train=train, transform=transform)\n",
        "    dataloader = torch.utils.data.DataLoader(data, batch_size=batch_size, shuffle=True)\n",
        "    return dataloader\n"
      ],
      "execution_count": 0,
      "outputs": []
    },
    {
      "cell_type": "code",
      "metadata": {
        "id": "7cnCchscyjsN",
        "colab_type": "code",
        "colab": {}
      },
      "source": [
        "\n",
        "def main():\n",
        "    train = get_data(train=True)\n",
        "    valid = get_data(train=False)\n",
        "\n",
        "    epochs = 30\n",
        "    model, optimizer, epoch = load_model('checkpoint.pth')\n",
        "    criterion = nn.NLLLoss()\n",
        "    #optimizer = optim.Adam(model.parameters(), lr=0.003)\n",
        "\n",
        "    train_losses, test_losses = [], []\n",
        "\n",
        "    #print(model)\n",
        "    #print(model.state_dict())\n",
        "\n",
        "    for e in range(epoch, epochs):\n",
        "        total_loss = 0.0\n",
        "        for images, labels in train:\n",
        "            images = images.to(device)\n",
        "            labels = labels.to(device)\n",
        "            logps = model(images)\n",
        "            loss = criterion(logps, labels)\n",
        "\n",
        "            optimizer.zero_grad()\n",
        "            loss.backward()\n",
        "            optimizer.step()\n",
        "            total_loss += loss.item()\n",
        "        else:\n",
        "            print(f'EPOCH: {e} @ Training Loss: {total_loss/len(train)}')\n",
        "            with torch.no_grad():\n",
        "                corrects = 0\n",
        "                test_loss = 0.0\n",
        "\n",
        "                #set the model in inference mode (set dropout probability to 0)\n",
        "                model.eval()#;print('test!')\n",
        "\n",
        "                for images, labels in valid:\n",
        "                    images = images.to(device)\n",
        "                    labels = labels.to(device)\n",
        "                    out = model(images)\n",
        "                    loss = criterion(out, labels)\n",
        "                    test_loss += loss.item()\n",
        "\n",
        "                    ps = torch.exp(out)\n",
        "                    tvalues, tclasses = ps.topk(k=1, dim=1)\n",
        "                    equals = tclasses == labels.view(*tclasses.shape)\n",
        "                    corrects += equals.sum()\n",
        "                else:\n",
        "                    print(f'>Test Loss: {test_loss/len(valid)}')\n",
        "                    print(f'>Test Accuracy: {float(corrects)/len(valid.dataset)*100}')\n",
        "                    #print(f'>data batches: {len(valid)} ** data points: {len(valid.dataset)}')\n",
        "\n",
        "                #set the model in training model\n",
        "                save_model(model, e, optimizer, 'checkpoint.pth')\n",
        "\n",
        "            model.train()#;print('train!')\n",
        "\n",
        "        train_losses.append(total_loss/len(train))\n",
        "        test_losses.append(test_loss/len(valid))\n",
        "        print('done\\n___________________________\\n')\n",
        "    \n",
        "    plt.plot(train_losses, label='Train Loss')\n",
        "    plt.plot(test_losses, label='Test Loss')\n",
        "    plt.legend(frameon=False)\n",
        "    plt.show()\n"
      ],
      "execution_count": 0,
      "outputs": []
    },
    {
      "cell_type": "markdown",
      "metadata": {
        "id": "Xc7i8yPQ05yP",
        "colab_type": "text"
      },
      "source": [
        ""
      ]
    },
    {
      "cell_type": "code",
      "metadata": {
        "id": "KSv0m-cNyjsS",
        "colab_type": "code",
        "colab": {}
      },
      "source": [
        "main()"
      ],
      "execution_count": 0,
      "outputs": []
    }
  ]
}